{
 "cells": [
  {
   "cell_type": "code",
   "execution_count": 23,
   "metadata": {
    "id": "n6oNs-9P4Dc0"
   },
   "outputs": [],
   "source": [
    "import pandas as pd\n",
    "import numpy as np\n",
    "import matplotlib.pyplot as plt\n",
    "import plotly.express as px\n",
    "import seaborn as sns\n",
    "import datetime as dt\n",
    "import warnings\n",
    "import plotly.graph_objects as go\n",
    "warnings.filterwarnings('ignore')\n",
    "pd.set_option('display.max_columns',None)"
   ]
  },
  {
   "cell_type": "code",
   "execution_count": 25,
   "metadata": {
    "id": "ZaDo5YmS5DtN"
   },
   "outputs": [],
   "source": [
    "df=pd.read_csv('/content/Customer Purchase Data.csv')"
   ]
  },
  {
   "cell_type": "code",
   "execution_count": 26,
   "metadata": {
    "colab": {
     "base_uri": "https://localhost:8080/"
    },
    "id": "zMktMw-m5aBC",
    "outputId": "8fddab04-60e1-4802-985b-8b7921d73b1b"
   },
   "outputs": [
    {
     "name": "stdout",
     "output_type": "stream",
     "text": [
      "The average age is: 43.251835535976504\n"
     ]
    }
   ],
   "source": [
    "avg_age = df['Age'].mean()\n",
    "print(f\"The average age is: {avg_age}\")\n"
   ]
  },
  {
   "cell_type": "code",
   "execution_count": 27,
   "metadata": {
    "colab": {
     "base_uri": "https://localhost:8080/"
    },
    "id": "lg9pfeZX5o5q",
    "outputId": "d333b953-d010-4c90-e99b-13bfd7cb7835"
   },
   "outputs": [
    {
     "name": "stdout",
     "output_type": "stream",
     "text": [
      "            Number          Age        Income  Spending_Score  \\\n",
      "count  1362.000000  1362.000000   1362.000000     1362.000000   \n",
      "mean    681.500000    43.251836  48317.193784     9765.372547   \n",
      "std     393.319844    12.533236  12648.638324     2531.133100   \n",
      "min       1.000000    18.000000  19946.675740     4064.177336   \n",
      "25%     341.250000    33.000000  38532.229703     7830.921337   \n",
      "50%     681.500000    43.000000  48758.233625     9850.200389   \n",
      "75%    1021.750000    54.000000  58579.901010    11810.345793   \n",
      "max    1362.000000    64.000000  73182.569800    14791.611800   \n",
      "\n",
      "       Membership_Years  Purchase_Frequency  Last_Purchase_Amount  \n",
      "count       1362.000000         1362.000000           1362.000000  \n",
      "mean           9.513950           49.551706           4931.689546  \n",
      "std            5.417624           27.074169           1266.894447  \n",
      "min            1.000000            4.876052           2057.551913  \n",
      "25%            5.000000           26.560455           3962.190531  \n",
      "50%            9.000000           47.729713           4972.893731  \n",
      "75%           14.000000           72.135292           5962.991091  \n",
      "max           19.000000           99.492184           7519.376995  \n"
     ]
    }
   ],
   "source": [
    "summary = df.describe()  # Summary statistics for numerical columns\n",
    "print(summary)\n"
   ]
  },
  {
   "cell_type": "code",
   "execution_count": 28,
   "metadata": {
    "colab": {
     "base_uri": "https://localhost:8080/"
    },
    "id": "N26TdiOQ5wSB",
    "outputId": "4032ac60-9b48-4edb-dff6-9e7736cffe96"
   },
   "outputs": [
    {
     "name": "stdout",
     "output_type": "stream",
     "text": [
      "Number                  0\n",
      "Age                     0\n",
      "Income                  0\n",
      "Spending_Score          0\n",
      "Membership_Years        0\n",
      "Purchase_Frequency      0\n",
      "Last_Purchase_Amount    0\n",
      "dtype: int64\n"
     ]
    }
   ],
   "source": [
    "missing_values = df.isnull().sum()\n",
    "print(missing_values)\n"
   ]
  },
  {
   "cell_type": "code",
   "execution_count": 29,
   "metadata": {
    "colab": {
     "base_uri": "https://localhost:8080/"
    },
    "id": "s2XYWI8b52Fn",
    "outputId": "da1592c9-9a67-4f0a-d4d1-c0bb341e42ad"
   },
   "outputs": [
    {
     "name": "stdout",
     "output_type": "stream",
     "text": [
      "The dataset has 1362 rows and 7 columns.\n"
     ]
    }
   ],
   "source": [
    "print(f\"The dataset has {df.shape[0]} rows and {df.shape[1]} columns.\")\n"
   ]
  },
  {
   "cell_type": "code",
   "execution_count": 30,
   "metadata": {
    "colab": {
     "base_uri": "https://localhost:8080/"
    },
    "id": "_izJ13cY589C",
    "outputId": "2d8ac6b3-2139-4286-9517-33ccd2799877"
   },
   "outputs": [
    {
     "name": "stdout",
     "output_type": "stream",
     "text": [
      "   Number  Age       Income  Spending_Score  Membership_Years  \\\n",
      "0       1   56  61350.84215    12372.864450                15   \n",
      "1       2   46  53777.18224    11001.604230                10   \n",
      "2       3   32  39460.32263     8007.385018                19   \n",
      "3       4   60  66672.12210    13526.548370                12   \n",
      "4       5   38  44459.08553     9059.304083                 9   \n",
      "\n",
      "   Purchase_Frequency  Last_Purchase_Amount  \n",
      "0           77.685590           6232.122440  \n",
      "1           51.858351           5545.849698  \n",
      "2           98.166371           4054.645293  \n",
      "3           62.530976           6815.544393  \n",
      "4           46.470533           4617.833484  \n"
     ]
    }
   ],
   "source": [
    "print(df.head())  # Print first 5 rows of the dataset\n"
   ]
  },
  {
   "cell_type": "code",
   "execution_count": 34,
   "metadata": {
    "colab": {
     "base_uri": "https://localhost:8080/"
    },
    "id": "Ph-PKPZe6B0_",
    "outputId": "e46e856b-507c-4106-d586-5e974bd7dc66"
   },
   "outputs": [
    {
     "name": "stdout",
     "output_type": "stream",
     "text": [
      "Membership_Years\n",
      "5     88\n",
      "2     86\n",
      "10    85\n",
      "7     85\n",
      "3     79\n",
      "4     79\n",
      "12    77\n",
      "13    76\n",
      "6     76\n",
      "16    74\n",
      "1     69\n",
      "18    69\n",
      "9     69\n",
      "17    65\n",
      "8     64\n",
      "14    60\n",
      "11    57\n",
      "19    55\n",
      "15    49\n",
      "Name: count, dtype: int64\n"
     ]
    }
   ],
   "source": [
    "print(df['Membership_Years'].value_counts())  # Replace 'Survived' with your column name\n"
   ]
  },
  {
   "cell_type": "code",
   "execution_count": 36,
   "metadata": {
    "colab": {
     "base_uri": "https://localhost:8080/"
    },
    "id": "CSTNgUNT6czx",
    "outputId": "c80c9fbd-e2fb-48c9-974b-c7058cb3e1d7"
   },
   "outputs": [
    {
     "name": "stdout",
     "output_type": "stream",
     "text": [
      "Requirement already satisfied: kaggle in /usr/local/lib/python3.10/dist-packages (1.6.17)\n",
      "Requirement already satisfied: six>=1.10 in /usr/local/lib/python3.10/dist-packages (from kaggle) (1.16.0)\n",
      "Requirement already satisfied: certifi>=2023.7.22 in /usr/local/lib/python3.10/dist-packages (from kaggle) (2024.8.30)\n",
      "Requirement already satisfied: python-dateutil in /usr/local/lib/python3.10/dist-packages (from kaggle) (2.8.2)\n",
      "Requirement already satisfied: requests in /usr/local/lib/python3.10/dist-packages (from kaggle) (2.32.3)\n",
      "Requirement already satisfied: tqdm in /usr/local/lib/python3.10/dist-packages (from kaggle) (4.66.6)\n",
      "Requirement already satisfied: python-slugify in /usr/local/lib/python3.10/dist-packages (from kaggle) (8.0.4)\n",
      "Requirement already satisfied: urllib3 in /usr/local/lib/python3.10/dist-packages (from kaggle) (2.2.3)\n",
      "Requirement already satisfied: bleach in /usr/local/lib/python3.10/dist-packages (from kaggle) (6.2.0)\n",
      "Requirement already satisfied: webencodings in /usr/local/lib/python3.10/dist-packages (from bleach->kaggle) (0.5.1)\n",
      "Requirement already satisfied: text-unidecode>=1.3 in /usr/local/lib/python3.10/dist-packages (from python-slugify->kaggle) (1.3)\n",
      "Requirement already satisfied: charset-normalizer<4,>=2 in /usr/local/lib/python3.10/dist-packages (from requests->kaggle) (3.4.0)\n",
      "Requirement already satisfied: idna<4,>=2.5 in /usr/local/lib/python3.10/dist-packages (from requests->kaggle) (3.10)\n",
      "The average age is: 43.251835535976504\n",
      "            Number          Age        Income  Spending_Score  \\\n",
      "count  1362.000000  1362.000000   1362.000000     1362.000000   \n",
      "mean    681.500000    43.251836  48317.193784     9765.372547   \n",
      "std     393.319844    12.533236  12648.638324     2531.133100   \n",
      "min       1.000000    18.000000  19946.675740     4064.177336   \n",
      "25%     341.250000    33.000000  38532.229703     7830.921337   \n",
      "50%     681.500000    43.000000  48758.233625     9850.200389   \n",
      "75%    1021.750000    54.000000  58579.901010    11810.345793   \n",
      "max    1362.000000    64.000000  73182.569800    14791.611800   \n",
      "\n",
      "       Membership_Years  Purchase_Frequency  Last_Purchase_Amount  \n",
      "count       1362.000000         1362.000000           1362.000000  \n",
      "mean           9.513950           49.551706           4931.689546  \n",
      "std            5.417624           27.074169           1266.894447  \n",
      "min            1.000000            4.876052           2057.551913  \n",
      "25%            5.000000           26.560455           3962.190531  \n",
      "50%            9.000000           47.729713           4972.893731  \n",
      "75%           14.000000           72.135292           5962.991091  \n",
      "max           19.000000           99.492184           7519.376995  \n",
      "Number                  0\n",
      "Age                     0\n",
      "Income                  0\n",
      "Spending_Score          0\n",
      "Membership_Years        0\n",
      "Purchase_Frequency      0\n",
      "Last_Purchase_Amount    0\n",
      "dtype: int64\n",
      "Spending_Score\n",
      "12372.864450    1\n",
      "12951.727360    1\n",
      "9804.713130     1\n",
      "8085.407390     1\n",
      "6128.024551     1\n",
      "               ..\n",
      "7941.868675     1\n",
      "11653.483390    1\n",
      "13206.741880    1\n",
      "11383.379640    1\n",
      "7995.516025     1\n",
      "Name: count, Length: 1362, dtype: int64\n"
     ]
    }
   ],
   "source": [
    "# Step 1: Install and authenticate Kaggle API\n",
    "!pip install kaggle\n",
    "import os\n",
    "\n",
    "\n",
    "# Step 4: Load CSV into pandas\n",
    "import pandas as pd\n",
    "df = pd.read_csv('/content/Customer Purchase Data.csv')  # Make sure the file name is correct\n",
    "\n",
    "# Step 5: Data Analysis\n",
    "# Calculate average age\n",
    "avg_age = df['Age'].mean()\n",
    "print(f\"The average age is: {avg_age}\")\n",
    "\n",
    "# Basic statistics\n",
    "summary = df.describe()\n",
    "print(summary)\n",
    "\n",
    "# Check for missing values\n",
    "missing_values = df.isnull().sum()\n",
    "print(missing_values)\n",
    "\n",
    "# Count unique values in 'Survived' column\n",
    "print(df['Spending_Score'].value_counts())\n"
   ]
  },
  {
   "cell_type": "code",
   "execution_count": 37,
   "metadata": {
    "colab": {
     "base_uri": "https://localhost:8080/"
    },
    "id": "t9pVoCxG6iie",
    "outputId": "d0ba9fec-2cc4-49b5-c35b-e9a0f2b9bcd8"
   },
   "outputs": [
    {
     "name": "stdout",
     "output_type": "stream",
     "text": [
      "First 5 rows of the dataset:\n",
      "   Number  Age       Income  Spending_Score  Membership_Years  \\\n",
      "0       1   56  61350.84215    12372.864450                15   \n",
      "1       2   46  53777.18224    11001.604230                10   \n",
      "2       3   32  39460.32263     8007.385018                19   \n",
      "3       4   60  66672.12210    13526.548370                12   \n",
      "4       5   38  44459.08553     9059.304083                 9   \n",
      "\n",
      "   Purchase_Frequency  Last_Purchase_Amount  \n",
      "0           77.685590           6232.122440  \n",
      "1           51.858351           5545.849698  \n",
      "2           98.166371           4054.645293  \n",
      "3           62.530976           6815.544393  \n",
      "4           46.470533           4617.833484  \n",
      "\n",
      "Average Age: 43.251835535976504\n",
      "\n",
      "Total income: 65808017.93413\n",
      "\n",
      "Summary statistics:\n",
      "            Number          Age        Income  Spending_Score  \\\n",
      "count  1362.000000  1362.000000   1362.000000     1362.000000   \n",
      "mean    681.500000    43.251836  48317.193784     9765.372547   \n",
      "std     393.319844    12.533236  12648.638324     2531.133100   \n",
      "min       1.000000    18.000000  19946.675740     4064.177336   \n",
      "25%     341.250000    33.000000  38532.229703     7830.921337   \n",
      "50%     681.500000    43.000000  48758.233625     9850.200389   \n",
      "75%    1021.750000    54.000000  58579.901010    11810.345793   \n",
      "max    1362.000000    64.000000  73182.569800    14791.611800   \n",
      "\n",
      "       Membership_Years  Purchase_Frequency  Last_Purchase_Amount  \n",
      "count       1362.000000         1362.000000           1362.000000  \n",
      "mean           9.513950           49.551706           4931.689546  \n",
      "std            5.417624           27.074169           1266.894447  \n",
      "min            1.000000            4.876052           2057.551913  \n",
      "25%            5.000000           26.560455           3962.190531  \n",
      "50%            9.000000           47.729713           4972.893731  \n",
      "75%           14.000000           72.135292           5962.991091  \n",
      "max           19.000000           99.492184           7519.376995  \n",
      "\n",
      "Missing values in each column:\n",
      "Number                  0\n",
      "Age                     0\n",
      "Income                  0\n",
      "Spending_Score          0\n",
      "Membership_Years        0\n",
      "Purchase_Frequency      0\n",
      "Last_Purchase_Amount    0\n",
      "dtype: int64\n",
      "\n",
      "Membership_year counts:\n",
      "Membership_Years\n",
      "5     88\n",
      "2     86\n",
      "10    85\n",
      "7     85\n",
      "3     79\n",
      "4     79\n",
      "12    77\n",
      "13    76\n",
      "6     76\n",
      "16    74\n",
      "1     69\n",
      "18    69\n",
      "9     69\n",
      "17    65\n",
      "8     64\n",
      "14    60\n",
      "11    57\n",
      "19    55\n",
      "15    49\n",
      "Name: count, dtype: int64\n"
     ]
    }
   ],
   "source": [
    "import pandas as pd\n",
    "\n",
    "# Step 1: Load the CSV file into a Pandas DataFrame\n",
    "df = pd.read_csv('/content/Customer Purchase Data.csv')  # Replace 'your_file.csv' with your actual file path\n",
    "\n",
    "# Step 2: View the first few rows\n",
    "print(\"First 5 rows of the dataset:\")\n",
    "print(df.head())\n",
    "\n",
    "# Step 3: Calculate the average of a column (e.g., Age)\n",
    "average_age = df['Age'].mean()\n",
    "print(f\"\\nAverage Age: {average_age}\")\n",
    "\n",
    "# Step 4: Calculate the sum of a column (e.g., Fare)\n",
    "total_income= df['Income'].sum()\n",
    "print(f\"\\nTotal income: {total_income}\")\n",
    "\n",
    "# Step 5: Get summary statistics for numerical columns\n",
    "print(\"\\nSummary statistics:\")\n",
    "print(df.describe())\n",
    "\n",
    "# Step 6: Check for missing values\n",
    "print(\"\\nMissing values in each column:\")\n",
    "missing_values = df.isnull().sum()\n",
    "print(missing_values)\n",
    "\n",
    "# Step 7: Count unique values in a column (e.g., Survived)\n",
    "print(\"\\nMembership_year counts:\")\n",
    "Year_counts = df['Membership_Years'].value_counts()  # Replace 'Survived' with your column\n",
    "print(Year_counts)\n"
   ]
  }
 ],
 "metadata": {
  "colab": {
   "name": "Welcome To Colab",
   "provenance": []
  },
  "kernelspec": {
   "display_name": "Python 3 (ipykernel)",
   "language": "python",
   "name": "python3"
  },
  "language_info": {
   "codemirror_mode": {
    "name": "ipython",
    "version": 3
   },
   "file_extension": ".py",
   "mimetype": "text/x-python",
   "name": "python",
   "nbconvert_exporter": "python",
   "pygments_lexer": "ipython3",
   "version": "3.11.7"
  }
 },
 "nbformat": 4,
 "nbformat_minor": 4
}
